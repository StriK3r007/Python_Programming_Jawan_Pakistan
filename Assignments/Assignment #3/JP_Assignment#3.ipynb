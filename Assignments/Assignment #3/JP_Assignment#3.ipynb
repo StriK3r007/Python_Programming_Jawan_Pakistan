{
 "cells": [
  {
   "cell_type": "markdown",
   "id": "73544674",
   "metadata": {},
   "source": [
    "# JAWAN PAKISTAN\n",
    "\n",
    "### Python Programming\n",
    "### Assignment # 3\n",
    "\n",
    "### Submitted By: Zubair Ahmed (JP15119)\n"
   ]
  },
  {
   "cell_type": "markdown",
   "id": "1d8210d4",
   "metadata": {},
   "source": [
    "#### Q.1: Write a Python program to print the following string in a specific format (see the output)."
   ]
  },
  {
   "cell_type": "markdown",
   "id": "4030a0a9",
   "metadata": {},
   "source": [
    "Twinkle, twinkle, little star,\n",
    "    How I wonder what you are!\n",
    "        Up above the world so high, \n",
    "        Like a diamond in the sky.\n",
    "Twinkle, twinkle, little star,\n",
    "    How I wonder what you are"
   ]
  },
  {
   "cell_type": "code",
   "execution_count": 62,
   "id": "1a393b66",
   "metadata": {},
   "outputs": [
    {
     "name": "stdout",
     "output_type": "stream",
     "text": [
      "Answer:\n",
      "________\n",
      "Method-1 \n",
      "__________\n",
      "Twinkle, twinkle, little star,\n",
      "\tHow I wonder what you are!\n",
      "\t\tUp above the world so high,\n",
      "\t\tLike a diamond in the sky.\n",
      "Twinkle, twinkle, little star,\n",
      "\tHow I wonder what you are\n",
      "\n",
      "Method-2 \n",
      "__________\n",
      "\n",
      "Twinkle, twinkle, little star,\n",
      "    How I wonder what you are!\n",
      "        Up above the world so high, \n",
      "        Like a diamond in the sky.\n",
      "Twinkle, twinkle, little star,\n",
      "    How I wonder what you are\n",
      "\n"
     ]
    }
   ],
   "source": [
    "print (\"Answer:\")\n",
    "print (\"__________\")\n",
    "\n",
    "print (\"Method-1 \\n__________\")\n",
    "\n",
    "print (\"Twinkle, twinkle, little star,\\n\\tHow I wonder what you are!\\n\\t\\tUp above the world so high,\\n\\t\\tLike a diamond in the sky.\\nTwinkle, twinkle, little star,\\n\\tHow I wonder what you are\")\n",
    "\n",
    "print (\"\\nMethod-2 \\n__________\")\n",
    "\n",
    "print (\"\"\"\n",
    "Twinkle, twinkle, little star,\n",
    "    How I wonder what you are!\n",
    "        Up above the world so high, \n",
    "        Like a diamond in the sky.\n",
    "Twinkle, twinkle, little star,\n",
    "    How I wonder what you are\n",
    "\"\"\")"
   ]
  },
  {
   "cell_type": "markdown",
   "id": "28faa2d6",
   "metadata": {},
   "source": [
    "#### Q.2: Write a Python program to get the Python version you are using."
   ]
  },
  {
   "cell_type": "code",
   "execution_count": 2,
   "id": "219234ba",
   "metadata": {},
   "outputs": [
    {
     "name": "stdout",
     "output_type": "stream",
     "text": [
      "Answer:\n",
      "__________\n",
      "Python version is 3.8.8 (default, Apr 13 2021, 15:08:03) [MSC v.1916 64 bit (AMD64)]\n"
     ]
    }
   ],
   "source": [
    "print (\"Answer:\")\n",
    "print (\"__________\")\n",
    "\n",
    "# importing sys module\n",
    "import sys\n",
    "print (\"Python version is\", sys.version)"
   ]
  },
  {
   "cell_type": "markdown",
   "id": "cd758d34",
   "metadata": {},
   "source": [
    "#### Q.3: Write a Python program to display the current date and time."
   ]
  },
  {
   "cell_type": "code",
   "execution_count": 3,
   "id": "6788e3fc",
   "metadata": {},
   "outputs": [
    {
     "name": "stdout",
     "output_type": "stream",
     "text": [
      "Answer:\n",
      "__________\n",
      "Date and time = 2021-10-24 14:05:53.611142\n"
     ]
    }
   ],
   "source": [
    "print (\"Answer:\")\n",
    "print (\"__________\")\n",
    "\n",
    "# importing date and time module\n",
    "from datetime import datetime\n",
    "print (\"Date and time =\", datetime.now())"
   ]
  },
  {
   "cell_type": "markdown",
   "id": "c5856b40",
   "metadata": {},
   "source": [
    "#### Q.4: Write a Python program which accepts the radius of a circle from the user and compute the area."
   ]
  },
  {
   "cell_type": "code",
   "execution_count": 5,
   "id": "8374272e",
   "metadata": {},
   "outputs": [
    {
     "name": "stdout",
     "output_type": "stream",
     "text": [
      "Answer:\n",
      "__________\n",
      "Enter radius of a circle: 3\n",
      "Area of a circle is:  28.274333882308138\n",
      "Rounding off the Area:  28\n"
     ]
    }
   ],
   "source": [
    "# importing math module\n",
    "import math\n",
    "\n",
    "print (\"Answer:\")\n",
    "print (\"__________\")\n",
    "\n",
    "#formulaOfArea = (valueOfPi x squareOfRadius)\n",
    "\n",
    "r = int(input(\"Enter radius of a circle: \"))\n",
    "\n",
    "r = r*r\n",
    "pi = math.pi\n",
    "a = pi*r\n",
    "\n",
    "print (\"Area of a circle is: \", a)\n",
    "print (\"Rounding off the Area: \", round(a))"
   ]
  },
  {
   "cell_type": "markdown",
   "id": "2bb9ef05",
   "metadata": {},
   "source": [
    "#### Q.5: Write a Python program which accepts the user's first and last name and print them in reverse order with a space between them."
   ]
  },
  {
   "cell_type": "code",
   "execution_count": 25,
   "id": "5536a819",
   "metadata": {},
   "outputs": [
    {
     "name": "stdout",
     "output_type": "stream",
     "text": [
      "Answer\n",
      "__________\n",
      "Enter first name: Python\n",
      "Enter last name: Programming\n",
      "\n",
      "Method-1\n",
      "__________\n",
      "Programming Python\n",
      "\n",
      "Method-2\n",
      "__________\n",
      "Programming Python\n"
     ]
    }
   ],
   "source": [
    "print (\"Answer\")\n",
    "print (\"__________\")\n",
    "\n",
    "fname = input(\"Enter first name: \")\n",
    "lname = input(\"Enter last name: \")\n",
    "print (\"\\nMethod-1\")\n",
    "print (\"__________\")\n",
    "print (lname + \" \"+ fname)\n",
    "\n",
    "print (\"\\nMethod-2\")\n",
    "print (\"__________\")\n",
    "print(lname, fname)"
   ]
  },
  {
   "cell_type": "markdown",
   "id": "bed97362",
   "metadata": {},
   "source": [
    "#### Q.6: Write a python program which takes two inputs from user and print them addition."
   ]
  },
  {
   "cell_type": "code",
   "execution_count": 67,
   "id": "f525a7b9",
   "metadata": {},
   "outputs": [
    {
     "name": "stdout",
     "output_type": "stream",
     "text": [
      "Answer:\n",
      "________\n",
      "Enter first number: 101\n",
      "Enter second number: 5\n",
      "Sum of 101 and 5 is equal to 106\n"
     ]
    }
   ],
   "source": [
    "print (\"Answer:\")\n",
    "print (\"__________\")\n",
    "\n",
    "num1 = int(input(\"Enter first number: \"))\n",
    "num2 = int(input(\"Enter second number: \"))\n",
    "\n",
    "print (\"Sum of\", num1, \"and\", num2, \"is equal to\", num1+num2)"
   ]
  },
  {
   "cell_type": "markdown",
   "id": "a4a1f7bb",
   "metadata": {},
   "source": [
    "#### Q.7: Write a program which takes 5 inputs from user for different subject’s marks, total it  and generate mark sheet using grades?"
   ]
  },
  {
   "cell_type": "code",
   "execution_count": 12,
   "id": "c83874eb",
   "metadata": {},
   "outputs": [
    {
     "name": "stdout",
     "output_type": "stream",
     "text": [
      "Answer:\n",
      "__________\n",
      "Enter marks of English: 80\n",
      "Enter marks of Urdu: 90\n",
      "Enter marks of Islamiat: 77\n",
      "Enter marks of Computer: 95\n",
      "Enter marks of Maths: 60\n",
      "\n",
      "You achieved B Grade\n",
      "====================================\n",
      "\n",
      "You obtained 402 marks out of 500\n",
      "\n",
      "Your Percentage is:  80.4\n"
     ]
    }
   ],
   "source": [
    "print (\"Answer:\")\n",
    "print (\"__________\")\n",
    "\n",
    "# Subjects / input marks\n",
    "eng = int(input(\"Enter marks of English: \"))\n",
    "urd = int(input(\"Enter marks of Urdu: \"))\n",
    "isl = int(input(\"Enter marks of Islamiat: \"))\n",
    "comp = int(input(\"Enter marks of Computer: \"))\n",
    "math = int(input(\"Enter marks of Maths: \"))\n",
    "\n",
    "total = 500\n",
    "obt = eng+urd+isl+comp+math\n",
    "perc = ((obt/500)*100)\n",
    "\n",
    "# Grade System\n",
    "if 500>= obt >=0:\n",
    "    if 100 >= perc >= 85:\n",
    "        print (\"\\nYou achieved A Grade\")\n",
    "    elif 84 >= perc >= 75:\n",
    "        print (\"\\nYou achieved B Grade\")\n",
    "    elif 74 >= perc >= 65:\n",
    "        print (\"\\nYou achieved C Grade\")\n",
    "    elif 64 >= perc >= 55:\n",
    "        print (\"\\nYou achieved D Grade\")\n",
    "    elif 54 >= perc >= 45:\n",
    "        print (\"\\nYou achieved F Grade\")\n",
    "    else:\n",
    "        print(\"\\nTry Again\")\n",
    "    \n",
    "    print (\"====================================\")\n",
    "    print (\"\\nYou obtained\", obt, \"marks out of\", total)\n",
    "    print (\"\\nYour Percentage is: \", perc)\n",
    "else:\n",
    "    print (\"\\nYou entered invalid marks\")\n",
    "    print (\"\\nYour marks are greater than 500 \\nMarks must be between 0 to 500\")"
   ]
  },
  {
   "cell_type": "markdown",
   "id": "6fa57deb",
   "metadata": {},
   "source": [
    "#### Q.8: Write a program which take input from user and identify that the given number is even or odd?"
   ]
  },
  {
   "cell_type": "code",
   "execution_count": 15,
   "id": "22a14032",
   "metadata": {},
   "outputs": [
    {
     "name": "stdout",
     "output_type": "stream",
     "text": [
      "Answer:\n",
      "__________\n",
      "Enter a number: 9\n",
      "You entered odd number\n"
     ]
    }
   ],
   "source": [
    "print (\"Answer:\")\n",
    "print (\"__________\")\n",
    "\n",
    "num1 = int(input(\"Enter a number: \"))\n",
    "\n",
    "if num1%2==0:\n",
    "    print (\"You entered even number\")\n",
    "else:\n",
    "    print (\"You entered odd number\")"
   ]
  },
  {
   "cell_type": "markdown",
   "id": "19b5ce55",
   "metadata": {},
   "source": [
    "#### Q.9: Write a program which print the length of the list?"
   ]
  },
  {
   "cell_type": "code",
   "execution_count": 122,
   "id": "28996872",
   "metadata": {},
   "outputs": [
    {
     "name": "stdout",
     "output_type": "stream",
     "text": [
      "Answer:\n",
      "__________\n",
      "Length of the list is 4\n"
     ]
    }
   ],
   "source": [
    "print (\"Answer:\")\n",
    "print (\"__________\")\n",
    "\n",
    "myList = [\"Python\", \"C++\", \"JavaScript\", \"Java\"]\n",
    "\n",
    "print (\"Length of the list is\", len(myList))"
   ]
  },
  {
   "cell_type": "markdown",
   "id": "d8cdc6a1",
   "metadata": {},
   "source": [
    "#### Q.10: Write a Python program to sum all the numeric items in a list?"
   ]
  },
  {
   "cell_type": "code",
   "execution_count": 144,
   "id": "4d632251",
   "metadata": {},
   "outputs": [
    {
     "name": "stdout",
     "output_type": "stream",
     "text": [
      "Answer:\n",
      "__________\n",
      "Sum of all the numeric items in a list is 75\n"
     ]
    }
   ],
   "source": [
    "print (\"Answer:\")\n",
    "print (\"__________\")\n",
    "\n",
    "myList = [10, 3, 9, 20, 33]\n",
    "sum = 0\n",
    "for x in myList:\n",
    "    sum += x\n",
    "\n",
    "print(\"Sum of all the numeric items in a list is\", sum)"
   ]
  },
  {
   "cell_type": "markdown",
   "id": "1052eb78",
   "metadata": {},
   "source": [
    "#### Q.11: Write a Python program to get the largest number from a numeric list."
   ]
  },
  {
   "cell_type": "code",
   "execution_count": 1,
   "id": "947d787f",
   "metadata": {},
   "outputs": [
    {
     "name": "stdout",
     "output_type": "stream",
     "text": [
      "Answer:\n",
      "__________\n",
      "33\n"
     ]
    }
   ],
   "source": [
    "print (\"Answer:\")\n",
    "print (\"__________\")\n",
    "\n",
    "myList = [10, 3, 9, 20, 33, 14, 15]\n",
    "\n",
    "largestNum = max(myList)\n",
    "print (largestNum)"
   ]
  },
  {
   "cell_type": "markdown",
   "id": "324cd605",
   "metadata": {},
   "source": [
    "#### Q.12: Take a list, say for example this one:\n",
    "#### a = [1, 1, 2, 3, 5, 8, 13, 21, 34, 55, 89] \n",
    "#### Write a program that prints out all the elements of the list that are less than 5."
   ]
  },
  {
   "cell_type": "code",
   "execution_count": 23,
   "id": "7bf40768",
   "metadata": {},
   "outputs": [
    {
     "name": "stdout",
     "output_type": "stream",
     "text": [
      "Answer:\n",
      "__________\n",
      "1\n",
      "1\n",
      "2\n",
      "3\n"
     ]
    }
   ],
   "source": [
    "print (\"Answer:\")\n",
    "print (\"__________\")\n",
    "\n",
    "myList = [1, 1, 2, 3, 5, 8, 13, 21, 34, 55, 89]\n",
    "\n",
    "for x in myList:\n",
    "    if x < 5:\n",
    "        print (x)"
   ]
  },
  {
   "cell_type": "markdown",
   "id": "6b4e54aa",
   "metadata": {},
   "source": [
    "##### Assignment Completed"
   ]
  },
  {
   "cell_type": "code",
   "execution_count": null,
   "id": "7e101e99",
   "metadata": {},
   "outputs": [],
   "source": []
  }
 ],
 "metadata": {
  "kernelspec": {
   "display_name": "Python 3",
   "language": "python",
   "name": "python3"
  },
  "language_info": {
   "codemirror_mode": {
    "name": "ipython",
    "version": 3
   },
   "file_extension": ".py",
   "mimetype": "text/x-python",
   "name": "python",
   "nbconvert_exporter": "python",
   "pygments_lexer": "ipython3",
   "version": "3.8.8"
  }
 },
 "nbformat": 4,
 "nbformat_minor": 5
}
