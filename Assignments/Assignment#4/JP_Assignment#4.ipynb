{
 "cells": [
  {
   "cell_type": "markdown",
   "id": "10e32f3f",
   "metadata": {},
   "source": [
    "# JAWAN PAKISTAN\n",
    "\n",
    "### Python Programming\n",
    "### Assignment # 4\n",
    "\n",
    "### Submitted By: Zubair Ahmed (JP15119)\n"
   ]
  },
  {
   "cell_type": "markdown",
   "id": "0d0eb9da",
   "metadata": {},
   "source": [
    "#### Q.1: Make a calculator using Python with addition, subtraction, multiplication, division, and power."
   ]
  },
  {
   "cell_type": "code",
   "execution_count": 29,
   "id": "0bc8140f",
   "metadata": {},
   "outputs": [
    {
     "name": "stdout",
     "output_type": "stream",
     "text": [
      "Answer\n",
      "__________\n",
      "Enter value of a: 16\n",
      "Enter value of b: 2\n",
      "Enter an operand (+, -, *, x, /, ^, **) **\n",
      "\n",
      " 16 into power of 2 is  256 \n",
      "\n",
      "\n",
      " 2 into power of 16 is  65536 \n",
      "\n",
      "\n",
      " Power of  16 is  256 \n",
      "\n",
      "\n",
      " Power of  2 is  4 \n",
      "\n"
     ]
    }
   ],
   "source": [
    "print(\"Answer\")\n",
    "print(\"__________\")\n",
    "\n",
    "num1 = int(input('Enter value of a: '))\n",
    "num2 = int(input('Enter value of b: '))\n",
    "\n",
    "opr = input('Enter an operand (+, -, *, x, /, ^, **) ')\n",
    "\n",
    "if (opr == '+'):\n",
    "    print('\\n Addition of ', num1, 'and', num2, 'is ',num1+num2)\n",
    "elif (opr == '-'):\n",
    "    print('\\n Subtraction of ', num1, 'from', num2, 'is ',num1-num2, '\\n')\n",
    "    print('\\n Subtraction of ', num2, 'from', num1, 'is ',num2-num1, '\\n')\n",
    "elif (opr == '*' or opr == 'x'):\n",
    "    print('\\n Multiplication of ', num1, 'with', num2, 'is ',num1*num2, '\\n')\n",
    "elif (opr == '/'):\n",
    "    print('\\n Division of ', num1, 'by', num2, 'is ',num1/num2)\n",
    "elif (opr == '^' or '**'):\n",
    "    print('\\n', num1, 'into power of', num2, 'is ',num1**num2, '\\n')\n",
    "    print('\\n', num2, 'into power of', num1, 'is ',num2**num1, '\\n')\n",
    "    print('\\n Power of ', num1, 'is ',num1**2, '\\n')\n",
    "    print('\\n Power of ', num2, 'is ',num2**2, '\\n')\n",
    "else:\n",
    "    print('error an unknown operand')"
   ]
  },
  {
   "cell_type": "markdown",
   "id": "9f4501f1",
   "metadata": {},
   "source": [
    "#### Q.2: Write a program to check if there is any numeric value in list using for loop."
   ]
  },
  {
   "cell_type": "code",
   "execution_count": 22,
   "id": "c1063a0e",
   "metadata": {},
   "outputs": [
    {
     "name": "stdout",
     "output_type": "stream",
     "text": [
      "Answer\n",
      "__________\n",
      "Numeric value in list are:\n",
      "3\n",
      "3\n",
      "9\n",
      "1\n",
      "1\n"
     ]
    }
   ],
   "source": [
    "print(\"Answer\")\n",
    "print(\"__________\")\n",
    "\n",
    "list = ['a', 3, 3, 'c', 'b', 9, 1, 1]\n",
    "print('Numeric value in list are:')\n",
    "for x in list:\n",
    "    if (type(x) == int):\n",
    "        print(x)"
   ]
  },
  {
   "cell_type": "markdown",
   "id": "da261c6c",
   "metadata": {},
   "source": [
    "#### Q.3: Write a Python Script to add a key to a dictionary."
   ]
  },
  {
   "cell_type": "code",
   "execution_count": 30,
   "id": "43bea33b",
   "metadata": {},
   "outputs": [
    {
     "name": "stdout",
     "output_type": "stream",
     "text": [
      "Answer\n",
      "__________\n",
      "Before adding a new key to dictionary: \n",
      " {1: 'one', 2: 'two'}\n",
      "After adding a new key to dictionary: \n",
      " {1: 'one', 2: 'two', 3: 'three', 4: 'four'}\n"
     ]
    }
   ],
   "source": [
    "print(\"Answer\")\n",
    "print(\"__________\")\n",
    "\n",
    "dict = {1: 'one', 2: 'two'}\n",
    "\n",
    "print('Before adding a new key to dictionary: \\n', dict)\n",
    "\n",
    "dict.update({3: 'three', 4: 'four'})\n",
    "print('After adding a new key to dictionary: \\n', dict)"
   ]
  },
  {
   "cell_type": "markdown",
   "id": "b18b7e6b",
   "metadata": {},
   "source": [
    "#### Q.4: Write a python program to sum all the numeric items in a dictionary."
   ]
  },
  {
   "cell_type": "code",
   "execution_count": 25,
   "id": "0be3abf5",
   "metadata": {},
   "outputs": [
    {
     "name": "stdout",
     "output_type": "stream",
     "text": [
      "Answer\n",
      "__________\n",
      "Sum of the numeric values in the dictionary is: 295\n"
     ]
    }
   ],
   "source": [
    "print(\"Answer\")\n",
    "print(\"__________\")\n",
    "\n",
    "dict = {'English': 85, 'Urdu':70, 'Computer':90, 'Math': 50}\n",
    "sum = 0\n",
    "\n",
    "for i in dict.values():\n",
    "    sum = sum + i\n",
    "\n",
    "print('Sum of the numeric values in the dictionary is:',sum)"
   ]
  },
  {
   "cell_type": "markdown",
   "id": "bc3f457b",
   "metadata": {},
   "source": [
    "#### Q.5: Write a program to identify duplicate values from list."
   ]
  },
  {
   "cell_type": "code",
   "execution_count": 40,
   "id": "afa20c06",
   "metadata": {},
   "outputs": [
    {
     "name": "stdout",
     "output_type": "stream",
     "text": [
      "Answer\n",
      "__________\n",
      "Common values are:\n",
      "6\n",
      "2\n",
      "3\n"
     ]
    }
   ],
   "source": [
    "print(\"Answer\")\n",
    "print(\"__________\")\n",
    "list = [2, 3 ,5, 6, 6, 2 ,1, 3, 4]\n",
    "dup = []\n",
    "\n",
    "print('Common values are:')\n",
    "for i in list:\n",
    "    if i not in dup:\n",
    "        dup.append(i)\n",
    "    else:\n",
    "        print(i)"
   ]
  },
  {
   "cell_type": "markdown",
   "id": "f7051e6c",
   "metadata": {},
   "source": [
    "#### Q.6: Write a Python script to check if a given key already exists in a dictionary."
   ]
  },
  {
   "cell_type": "code",
   "execution_count": 45,
   "id": "6d8700ee",
   "metadata": {},
   "outputs": [
    {
     "name": "stdout",
     "output_type": "stream",
     "text": [
      "Answer\n",
      "__________\n",
      "Enter a key: 6\n",
      "This key is not preasent in the dictionary\n"
     ]
    }
   ],
   "source": [
    "print(\"Answer\")\n",
    "print(\"__________\")\n",
    "dict = {1: 'one', 2: 'two', 3: 'three', 4: 'four', 5: 'five'}\n",
    "\n",
    "k = int(input('Enter a key: '))\n",
    "\n",
    "if k in dict:\n",
    "    print('This key is already preasent in the dictionary')\n",
    "else:\n",
    "    print('This key is not preasent in the dictionary')"
   ]
  },
  {
   "cell_type": "code",
   "execution_count": null,
   "id": "05493da1",
   "metadata": {},
   "outputs": [],
   "source": []
  }
 ],
 "metadata": {
  "kernelspec": {
   "display_name": "Python 3",
   "language": "python",
   "name": "python3"
  },
  "language_info": {
   "codemirror_mode": {
    "name": "ipython",
    "version": 3
   },
   "file_extension": ".py",
   "mimetype": "text/x-python",
   "name": "python",
   "nbconvert_exporter": "python",
   "pygments_lexer": "ipython3",
   "version": "3.8.8"
  }
 },
 "nbformat": 4,
 "nbformat_minor": 5
}
